{
  "nbformat": 4,
  "nbformat_minor": 0,
  "metadata": {
    "colab": {
      "name": "Video_prediction.ipynb",
      "provenance": []
    },
    "kernelspec": {
      "name": "python3",
      "display_name": "Python 3"
    }
  },
  "cells": [
    {
      "cell_type": "code",
      "metadata": {
        "id": "BGIna9sRTytQ",
        "colab_type": "code",
        "colab": {}
      },
      "source": [
        "from imutils.video import VideoStream\n",
        "from imutils.video import FileVideoStream\n",
        "from google.colab.patches import cv2_imshow\n",
        "import cv2\n",
        "import imutils\n",
        "import time"
      ],
      "execution_count": null,
      "outputs": []
    },
    {
      "cell_type": "code",
      "metadata": {
        "id": "JeXCQJACT9m5",
        "colab_type": "code",
        "colab": {}
      },
      "source": [
        "def detect_and_predict_mask(frame, faceNet, maskNet):\n",
        "\t# grab the dimensions of the frame and then construct a blob from it \n",
        "\t(h, w) = frame.shape[:2]\n",
        "\tblob = cv2.dnn.blobFromImage(frame, 1.0, (300, 300),\n",
        "\t\t(104.0, 177.0, 123.0))\n",
        "\n",
        "\t# pass the blob through the network and obtain the face detections\n",
        "\tfaceNet.setInput(blob)\n",
        "\tdetections = faceNet.forward()\n",
        "\n",
        "\t# initialize our list of faces, their corresponding locations,\n",
        "\t# and the list of predictions from our face mask network\n",
        "\tfaces = []\n",
        "\tlocs = []\n",
        "\tpreds = []\n",
        "\n",
        "\t# loop over the detections\n",
        "\tfor i in range(0, detections.shape[2]):\n",
        "\t\t# extract the confidence (i.e., probability) associated with the detection \n",
        "\t\tconfidence = detections[0, 0, i, 2]\n",
        "\n",
        "\t\t# filter out weak detections by ensuring the confidence is\n",
        "\t\t# greater than the minimum confidence\n",
        "\t\tif confidence > 0.4:\n",
        "\t\t\t# compute the (x, y)-coordinates of the bounding box for the object \n",
        "\t\t\tbox = detections[0, 0, i, 3:7] * np.array([w, h, w, h])\n",
        "\t\t\t(startX, startY, endX, endY) = box.astype(\"int\")\n",
        "\n",
        "\t\t\t# ensure the bounding boxes fall within the dimensions of the frame \n",
        "\t\t\t(startX, startY) = (max(0, startX), max(0, startY))\n",
        "\t\t\t(endX, endY) = (min(w - 1, endX), min(h - 1, endY))\n",
        "\n",
        "\t\t\t# extract the face ROI, convert it from BGR to RGB channel\n",
        "\t\t\t# ordering, resize it to img_sizeximg_size, and preprocess it\n",
        "\t\t\tface = frame[startY:endY, startX:endX]\n",
        "\t\t\tface = cv2.cvtColor(face, cv2.COLOR_BGR2RGB)\n",
        "\t\t\tface = cv2.resize(face, (img_size, img_size))\n",
        "\t\t\tface = img_to_array(face)\n",
        "\t\t\tface = preprocess_input(face)\n",
        "\n",
        "\t\t\t# add the face and bounding boxes to their respective lists \n",
        "\t\t\tfaces.append(face)\n",
        "\t\t\tlocs.append((startX, startY, endX, endY))\n",
        "\n",
        "\t# only make a predictions if at least one face was detected\n",
        "\tif len(faces) > 0:\n",
        "\t\t# for faster inference we'll make batch predictions on *all* faces at the same\n",
        "\t\t# time rather than one-by-one predictions in the above `for` loop \n",
        "\t\tfaces = np.array(faces, dtype=\"float32\")\n",
        "\t\tpreds = maskNet.predict(faces, batch_size=32)\n",
        "\n",
        "\t# return a 2-tuple of the face locations and their corresponding locations \n",
        "\treturn (locs, preds)"
      ],
      "execution_count": null,
      "outputs": []
    },
    {
      "cell_type": "code",
      "metadata": {
        "id": "dV7pUsGAUBeo",
        "colab_type": "code",
        "colab": {}
      },
      "source": [
        "# load our serialized face detector model\n",
        "faceNet = cv2.dnn.readNet('/content/deploy.prototxt', '/content/res10_300x300_ssd_iter_140000.caffemodel')"
      ],
      "execution_count": null,
      "outputs": []
    },
    {
      "cell_type": "code",
      "metadata": {
        "id": "Fdjx_5z6UDdd",
        "colab_type": "code",
        "colab": {}
      },
      "source": [
        "# prediction model\n",
        "maskNet = model"
      ],
      "execution_count": null,
      "outputs": []
    },
    {
      "cell_type": "code",
      "metadata": {
        "id": "WPWA-qQIUF5G",
        "colab_type": "code",
        "colab": {}
      },
      "source": [
        "# initialize the video stream\n",
        "print(\"[INFO] starting video stream...\")\n",
        "vs = FileVideoStream('/content/dedo.mp4').start()"
      ],
      "execution_count": null,
      "outputs": []
    },
    {
      "cell_type": "code",
      "metadata": {
        "id": "MkleMlGwUI8r",
        "colab_type": "code",
        "colab": {}
      },
      "source": [
        "# video writer & output path\n",
        "writer = None\n",
        "VIDEO_STREAM_OUT = '/content/video_dedo.avi'"
      ],
      "execution_count": null,
      "outputs": []
    },
    {
      "cell_type": "code",
      "metadata": {
        "id": "xonIGljaUNvJ",
        "colab_type": "code",
        "colab": {}
      },
      "source": [
        "# loop over the frames from the video stream\n",
        "while True:\n",
        "\t# grab the frame from the threaded video stream and resize it\n",
        "\t# to have a maximum width of 400 pixels\n",
        "\tframe = vs.read()\n",
        "\ttry:\n",
        "\t\tframe = imutils.resize(frame, width=400)\n",
        "\texcept Exception as ex:\n",
        "\t\tprint(ex)\n",
        "\t\n",
        "\t# detect faces in the frame and determine if they are wearing a\n",
        "\t# face mask or not\n",
        "\t(locs, preds) = detect_and_predict_mask(frame, faceNet, maskNet)\n",
        "\n",
        "\t# loop over the detected face locations and their corresponding\n",
        "\t# locations\n",
        "\tfor (box, pred) in zip(locs, preds):\n",
        "\t\t# unpack the bounding box and predictions\n",
        "\t\t(startX, startY, endX, endY) = box\n",
        "\t\t(old_with_mask, old_without_mask, young_with_mask, young_without_mask) = pred\n",
        "\n",
        "\t\t# determine the class label and color we'll use to draw\n",
        "\t\t# the bounding box and text\n",
        "\t\tdef label_prediction(old_with_mask, old_without_mask, young_with_mask, young_without_mask):\n",
        "\t\t\tif old_with_mask > old_without_mask and old_with_mask > young_with_mask and old_with_mask > young_without_mask:\n",
        "\t\t\t\treturn str(\"old_with_mask\")\n",
        "\t\t\telif old_without_mask > old_with_mask and old_without_mask > young_with_mask and old_without_mask > young_without_mask:\n",
        "\t\t\t\treturn str(\"old_without_mask\")\n",
        "\t\t\telif young_with_mask > old_with_mask and young_with_mask > old_without_mask and young_with_mask > young_without_mask:\n",
        "\t\t\t\treturn str(\"young_with_mask\")\n",
        "\t\t\telif young_without_mask > old_with_mask and young_without_mask > old_without_mask and young_without_mask > young_with_mask:\n",
        "\t\t\t\treturn str(\"young_without_mask\")\n",
        "\n",
        "\t\tlabel = label_prediction(old_with_mask, old_without_mask, young_with_mask,young_without_mask)\n",
        "\t\t\n",
        "\t\tdef color_prediction(old_with_mask, old_without_mask, young_with_mask, young_without_mask):\n",
        "\t\t\tif old_with_mask > old_without_mask and old_with_mask > young_with_mask and old_with_mask > young_without_mask:\n",
        "\t\t\t\treturn (0, 255, 0)\n",
        "\t\t\telif old_without_mask > old_with_mask and old_without_mask > young_with_mask and old_without_mask > young_without_mask:\n",
        "\t\t\t\treturn (0, 0, 255)\n",
        "\t\t\telif young_with_mask > old_with_mask and young_with_mask > old_without_mask and young_with_mask > young_without_mask:\n",
        "\t\t\t\treturn (70, 219, 224)\n",
        "\t\t\telif young_without_mask > old_with_mask and young_without_mask > old_without_mask and young_without_mask > young_with_mask:\n",
        "\t\t\t\treturn (201, 26, 166)\t\t\t\n",
        "\t\t\n",
        "\t\tcolor = color_prediction(old_with_mask, old_without_mask, young_with_mask, young_without_mask)\n",
        "\n",
        "\t\t# include the probability in the label\n",
        "\t\tlabel = \"{}: {:.2f}%\".format(label, max(old_with_mask, old_without_mask, young_with_mask, young_without_mask) * 100)\n",
        "\n",
        "\t\t# display the label and bounding box rectangle on the output\n",
        "\t\t# frame\n",
        "\t\tcv2.putText(frame, label, (startX, startY - 10),\n",
        "\t\t\tcv2.FONT_HERSHEY_SIMPLEX, 0.45, color, 2)\n",
        "\t\tcv2.rectangle(frame, (startX, startY), (endX, endY), color, 2)\n",
        "\n",
        "\t# show the output frame\n",
        "\tcv2_imshow(frame)\n",
        "\tkey = cv2.waitKey(1) & 0xFF\n",
        "\n",
        "\t# Check if the video writer is None\n",
        "\tif writer is None:\n",
        "\t\t# Initialize our video writer\n",
        "\t\tfourcc = cv2.VideoWriter_fourcc(*\"XVID\")\n",
        "\t\twriter = cv2.VideoWriter(VIDEO_STREAM_OUT, fourcc, 30, (frame.shape[1], frame.shape[0]), True) \n",
        "\t\n",
        "\t# Write the output video\n",
        "\twriter.write(frame)\n",
        "\t\n",
        "\t# if the `q` key was pressed, break from the loop\n",
        "\tif key == ord(\"q\"):\n",
        "\t\tbreak\n",
        "\n",
        "# Release the file pointers\n",
        "print(\"[INFO] cleaning up...\")\n",
        "writer.release()\n",
        "\n",
        "# cleanup\n",
        "cv2.destroyAllWindows()\n",
        "vs.stop()"
      ],
      "execution_count": null,
      "outputs": []
    }
  ]
}