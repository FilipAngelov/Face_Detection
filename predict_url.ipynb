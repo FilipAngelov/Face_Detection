{
  "nbformat": 4,
  "nbformat_minor": 0,
  "metadata": {
    "colab": {
      "name": "predict_url.ipynb",
      "provenance": [],
      "collapsed_sections": []
    },
    "kernelspec": {
      "name": "python3",
      "display_name": "Python 3"
    }
  },
  "cells": [
    {
      "cell_type": "markdown",
      "metadata": {
        "id": "gF2WecOEyECI",
        "colab_type": "text"
      },
      "source": [
        "## Your best model weights should be saved in a **model** variable\n",
        "\n",
        "#### img_size is important (in this case 224,224) and make sure is the same as in the preprocessing phase"
      ]
    },
    {
      "cell_type": "code",
      "metadata": {
        "id": "bMAAqaiOxmPZ",
        "colab_type": "code",
        "colab": {}
      },
      "source": [
        "def get_prediction(image):\n",
        "    image = np.expand_dims(image, axis=0)\n",
        "    plt.imshow(image.reshape(224,224,3))\n",
        "    \n",
        "    prediction = model.predict(image)\n",
        "    predicted_class = np.argmax(prediction)\n",
        "    return names[predicted_class]"
      ],
      "execution_count": null,
      "outputs": []
    },
    {
      "cell_type": "code",
      "metadata": {
        "id": "mZycBBotxqy7",
        "colab_type": "code",
        "colab": {}
      },
      "source": [
        "import urllib.request\n",
        "import cv2\n",
        "import matplotlib.pyplot as plt\n",
        "\n",
        "def url_to_image(url):\n",
        "  resp = urllib.request.urlopen(url)\n",
        "  image = np.asarray(bytearray(resp.read()), dtype=\"uint8\")\n",
        "  image = cv2.imdecode(image, cv2.IMREAD_COLOR)\n",
        "  image_ = cv2.cvtColor(image, cv2.COLOR_BGR2RGB)\n",
        "  \n",
        "  # PREPROCESS YOUR INPUT\n",
        "  image_preprocessed = cv2.resize(image, (224,224)).astype('float32')/255\n",
        "  return image_preprocessed, image_\n",
        "\n",
        "def predict_url(url):\n",
        "  image_resized, image = url_to_image(url)\n",
        "  predicted_class = get_prediction(image_resized)\n",
        "  plt.imshow(image)\n",
        "  plt.title(\"Predicted : \" + predicted_class)"
      ],
      "execution_count": null,
      "outputs": []
    }
  ]
}